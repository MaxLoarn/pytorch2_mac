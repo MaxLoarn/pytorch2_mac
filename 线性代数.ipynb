{
 "cells": [
  {
   "cell_type": "code",
   "execution_count": 10,
   "id": "c453b3a5",
   "metadata": {},
   "outputs": [
    {
     "data": {
      "text/plain": [
       "tensor(45.)"
      ]
     },
     "execution_count": 10,
     "metadata": {},
     "output_type": "execute_result"
    }
   ],
   "source": [
    "import torch\n",
    "\n",
    "x = torch.tensor(3.0)\n",
    "y = torch.tensor(5.0)\n",
    "\n",
    "x*y*x "
   ]
  },
  {
   "cell_type": "code",
   "execution_count": 11,
   "id": "43604ea6",
   "metadata": {},
   "outputs": [
    {
     "data": {
      "text/plain": [
       "(10, tensor([0, 1, 2, 3, 4, 5, 6, 7, 8, 9]))"
      ]
     },
     "execution_count": 11,
     "metadata": {},
     "output_type": "execute_result"
    }
   ],
   "source": [
    "q = torch.arange(10)\n",
    "\n",
    "len(q),q"
   ]
  },
  {
   "cell_type": "markdown",
   "id": "e20b82f5",
   "metadata": {},
   "source": [
    "torch.arange(N) 自动从零开始生成向量到N\n",
    "len（）"
   ]
  },
  {
   "cell_type": "code",
   "execution_count": 12,
   "id": "b50fa51b",
   "metadata": {},
   "outputs": [
    {
     "data": {
      "text/plain": [
       "(tensor([[ 0,  1,  2,  3],\n",
       "         [ 4,  5,  6,  7],\n",
       "         [ 8,  9, 10, 11],\n",
       "         [12, 13, 14, 15],\n",
       "         [16, 17, 18, 19]]),\n",
       " tensor([[ 0,  4,  8, 12, 16],\n",
       "         [ 1,  5,  9, 13, 17],\n",
       "         [ 2,  6, 10, 14, 18],\n",
       "         [ 3,  7, 11, 15, 19]]))"
      ]
     },
     "execution_count": 12,
     "metadata": {},
     "output_type": "execute_result"
    }
   ],
   "source": [
    "w = torch.arange(20).reshape(5, 4)\n",
    "\n",
    "w, w.T"
   ]
  },
  {
   "cell_type": "code",
   "execution_count": 22,
   "id": "00059aa6",
   "metadata": {},
   "outputs": [
    {
     "name": "stdout",
     "output_type": "stream",
     "text": [
      "tensor([[0, 0, 1],\n",
      "        [0, 0, 0],\n",
      "        [1, 1, 0]])\n",
      "********************************\n",
      "tensor([[1, 0, 0],\n",
      "        [0, 1, 0],\n",
      "        [1, 0, 1]])\n",
      "********************************\n",
      "tensor([[0, 1, 1],\n",
      "        [1, 1, 0],\n",
      "        [0, 0, 0]])\n",
      "********************************\n",
      "以下为由三个二维向量合并为一个三维向量进行转换：\n",
      " tensor([[[0, 0, 1],\n",
      "         [0, 0, 0],\n",
      "         [1, 1, 0]],\n",
      "\n",
      "        [[1, 0, 0],\n",
      "         [0, 1, 0],\n",
      "         [1, 0, 1]],\n",
      "\n",
      "        [[0, 1, 1],\n",
      "         [1, 1, 0],\n",
      "         [0, 0, 0]]])\n"
     ]
    }
   ],
   "source": [
    "import random\n",
    "\n",
    "\n",
    "# 声明方法 \n",
    "# 方法作用：生成随机数0，1 并将其加入到初始列表之中\n",
    "def appendlist():\n",
    "    listw = []\n",
    "    for q in range(9):\n",
    "        e = random.randint(0, 1)\n",
    "        listw.append(e)\n",
    "    qqqq = torch.tensor(listw).reshape(3, 3)\n",
    "    print(qqqq)\n",
    "    print('********************************')\n",
    "    return listw\n",
    "\n",
    "# 使用方法\n",
    "qwe = appendlist()\n",
    "asd = appendlist()\n",
    "zxc = appendlist()\n",
    "\n",
    "# 将以上的三个列表进行组合 组合为一个列表中嵌套三个小列表\n",
    "qqq = [qwe, asd, zxc]\n",
    "\n",
    "# 将列表转换为矩阵（三维）\n",
    "www = torch.tensor(qqq).reshape(3, 3, 3)\n",
    "print('以下为由三个二维向量合并为一个三维向量进行转换：\\n', www)\n"
   ]
  },
  {
   "cell_type": "code",
   "execution_count": 21,
   "id": "c1d1e31e",
   "metadata": {},
   "outputs": [
    {
     "data": {
      "text/plain": [
       "tensor([[[ 0,  1,  2],\n",
       "         [ 3,  4,  5],\n",
       "         [ 6,  7,  8]],\n",
       "\n",
       "        [[ 9, 10, 11],\n",
       "         [12, 13, 14],\n",
       "         [15, 16, 17]],\n",
       "\n",
       "        [[18, 19, 20],\n",
       "         [21, 22, 23],\n",
       "         [24, 25, 26]]])"
      ]
     },
     "execution_count": 21,
     "metadata": {},
     "output_type": "execute_result"
    }
   ],
   "source": [
    "X = torch.arange(27).reshape(3, 3, 3) # reshape（组， 列， 行）\n",
    "X"
   ]
  },
  {
   "cell_type": "code",
   "execution_count": null,
   "id": "75a7d037",
   "metadata": {},
   "outputs": [],
   "source": []
  }
 ],
 "metadata": {
  "kernelspec": {
   "display_name": "Python 3 (ipykernel)",
   "language": "python",
   "name": "python3"
  },
  "language_info": {
   "codemirror_mode": {
    "name": "ipython",
    "version": 3
   },
   "file_extension": ".py",
   "mimetype": "text/x-python",
   "name": "python",
   "nbconvert_exporter": "python",
   "pygments_lexer": "ipython3",
   "version": "3.10.9"
  }
 },
 "nbformat": 4,
 "nbformat_minor": 5
}
